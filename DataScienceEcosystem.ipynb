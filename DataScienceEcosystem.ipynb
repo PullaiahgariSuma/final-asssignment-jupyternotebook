{
 "cells": [
  {
   "cell_type": "markdown",
   "id": "2333aec5-b9b9-4672-9a53-0213bc75fcf3",
   "metadata": {},
   "source": [
    "# Data Science Tools and Ecosystem\n"
   ]
  },
  {
   "cell_type": "markdown",
   "id": "ec56a931-c513-4284-94d6-98d63e786593",
   "metadata": {},
   "source": [
    "In this notebook, Data Science Tools and Ecosystem are summarized."
   ]
  },
  {
   "cell_type": "markdown",
   "id": "5ebd0e0a-3324-4545-899d-92c0092dfeab",
   "metadata": {},
   "source": [
    "**objectives**:\n",
    "* Popularlanguages for Data Science\n",
    "* Libraries for Data Science\n",
    "* Data Science Tools\n",
    "* Evaluation of Arithmetic expressions\n"
   ]
  },
  {
   "cell_type": "markdown",
   "id": "510b7f6e-16f8-4681-9166-bf43ff984bc3",
   "metadata": {},
   "source": [
    "Some of the popular languages that Data Scientists use are:\n",
    "1. Python\n",
    "2. R\n",
    "3. SQL"
   ]
  },
  {
   "cell_type": "markdown",
   "id": "f762be18-36c0-468e-99f4-755e53ccd362",
   "metadata": {},
   "source": [
    "Some of the commonly used libraries used by Data Scientists include:\n",
    "1. Pandas\n",
    "2. Numpy\n",
    "3. Matplotlib\n",
    "4. Tensorflow\n",
    "5. Sci-kit learn"
   ]
  },
  {
   "cell_type": "markdown",
   "id": "b3682ce8-76b1-45cb-8cfc-0f5dd7153032",
   "metadata": {},
   "source": [
    "| Data Science Tools |\n",
    "| ------------------ |\n",
    "| Jupyter |\n",
    "| R Studio |\n",
    "| Apache Zeppelin |"
   ]
  },
  {
   "cell_type": "markdown",
   "id": "0f11a19a-17b7-40c2-886d-ad0260813650",
   "metadata": {},
   "source": [
    "### Below are few examples of evaluating arithmetic expressions in Python."
   ]
  },
  {
   "cell_type": "code",
   "execution_count": 3,
   "id": "b9463e9e-d12a-45c7-8659-09a8a8b95e53",
   "metadata": {},
   "outputs": [
    {
     "data": {
      "text/plain": [
       "17"
      ]
     },
     "execution_count": 3,
     "metadata": {},
     "output_type": "execute_result"
    }
   ],
   "source": [
    "#this is a simple arithmetic expression to multiply then add integers\n",
    "(3*4)+5"
   ]
  },
  {
   "cell_type": "code",
   "execution_count": 4,
   "id": "45cbe392-ad54-451c-a431-1f39dd3073dd",
   "metadata": {},
   "outputs": [
    {
     "data": {
      "text/plain": [
       "3.3333333333333335"
      ]
     },
     "execution_count": 4,
     "metadata": {},
     "output_type": "execute_result"
    }
   ],
   "source": [
    "#This will convert 200 minutes to hours by diving by 60.\n",
    "200/60"
   ]
  },
  {
   "cell_type": "markdown",
   "id": "347181eb-52a2-42b8-95a3-125aff5ac735",
   "metadata": {},
   "source": [
    "## Author\n",
    "Babysuma Pullaiahgari"
   ]
  }
 ],
 "metadata": {
  "kernelspec": {
   "display_name": "Python 3 (ipykernel)",
   "language": "python",
   "name": "python3"
  },
  "language_info": {
   "codemirror_mode": {
    "name": "ipython",
    "version": 3
   },
   "file_extension": ".py",
   "mimetype": "text/x-python",
   "name": "python",
   "nbconvert_exporter": "python",
   "pygments_lexer": "ipython3",
   "version": "3.12.0"
  }
 },
 "nbformat": 4,
 "nbformat_minor": 5
}
